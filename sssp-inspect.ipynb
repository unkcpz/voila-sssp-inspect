{
 "cells": [
  {
   "cell_type": "code",
   "execution_count": null,
   "id": "b7299dbb",
   "metadata": {},
   "outputs": [],
   "source": [
    "%matplotlib widget\n",
    "\n",
    "# To prevent automatic figure display when execution of the cell ends\n",
    "%config InlineBackend.close_figures=False "
   ]
  },
  {
   "cell_type": "code",
   "execution_count": null,
   "id": "a1aa37d3",
   "metadata": {},
   "outputs": [],
   "source": [
    "import matplotlib.pyplot as plt\n",
    "\n",
    "import ipywidgets as ipw\n",
    "from widget_periodictable import PTableWidget\n",
    "\n",
    "from IPython.display import display\n",
    "\n",
    "plt.ioff()"
   ]
  },
  {
   "cell_type": "code",
   "execution_count": null,
   "id": "a3ac4c44",
   "metadata": {},
   "outputs": [],
   "source": [
    "from sssp_inspect.subwidgets.select import SSSP_DB\n",
    "# from sssp_inspect.subwidgets.periodic_table import PeriodicTable\n",
    "\n",
    "# periodic_table = PeriodicTable()\n",
    "# display(periodic_table)\n",
    "# Show the widget\n",
    "periodic_table = PTableWidget(states = 1,\n",
    "                      selected_colors = ['royalblue'], \n",
    "                      unselected_color='cornflowerblue', border_color = 'black', width = '40px')\n",
    "\n",
    "disable_elements = [e for e in periodic_table.allElements if e not in SSSP_DB.keys()]\n",
    "periodic_table.disabled_elements = disable_elements\n",
    "\n",
    "last_selected = periodic_table.selected_elements\n",
    "def on_element_select(event):\n",
    "    global last_selected\n",
    "\n",
    "    if event['name'] == 'selected_elements' and event['type'] == 'change':\n",
    "        if tuple(event['new'].keys()) == ('Du', ):\n",
    "            last_selected = event['old']\n",
    "        elif tuple(event['old'].keys()) == ('Du', ):\n",
    "            #print(last_selected, event['new'])\n",
    "            if len(event['new']) != 1:\n",
    "                # Reset to only one element only if there is more than one selected,\n",
    "                # to avoid infinite loops\n",
    "                newly_selected = set(event['new']).difference(last_selected)\n",
    "                # If this is empty it's ok, unselect all\n",
    "                # If there is more than one, that's weird... to avoid problems, anyway, I pick one of the two\n",
    "                if newly_selected:\n",
    "                    periodic_table.selected_elements = {list(newly_selected)[0]: 0}\n",
    "                else:\n",
    "                    periodic_table.selected_elements = {}\n",
    "                # To have the correct 'last' value for next calls\n",
    "                last_selected = periodic_table_widget.selected_elements\n",
    "\n",
    "periodic_table.observe(on_element_select)\n",
    "\n",
    "display(periodic_table)"
   ]
  },
  {
   "cell_type": "code",
   "execution_count": null,
   "id": "67cf741f",
   "metadata": {},
   "outputs": [],
   "source": [
    "from sssp_inspect.subwidgets.select import PseudoSelectWidget\n",
    "\n",
    "pseudo_select_widget = PseudoSelectWidget()\n",
    "\n",
    "ipw.dlink(\n",
    "    (periodic_table, 'selected_elements'), \n",
    "    (pseudo_select_widget, 'selected_element'),\n",
    "    transform=lambda elements: list(elements.keys())[0] if elements else None,\n",
    ")"
   ]
  },
  {
   "cell_type": "code",
   "execution_count": null,
   "id": "c22ea948",
   "metadata": {},
   "outputs": [],
   "source": [
    "display(pseudo_select_widget)"
   ]
  },
  {
   "cell_type": "code",
   "execution_count": null,
   "id": "8e8f884c",
   "metadata": {},
   "outputs": [],
   "source": [
    "from sssp_inspect.subwidgets import plot as wplot\n",
    "\n",
    "\n",
    "plot_delta_measure_widget = wplot.PlotDeltaMeasureWidget()\n",
    "ipw.dlink((pseudo_select_widget, 'selected_pseudos'), (plot_delta_measure_widget, 'selected_pseudos'))\n",
    "\n",
    "plot_cohesive_energy_converge_widget = wplot.PlotCohesiveEnergyConvergeWidget()\n",
    "ipw.dlink((pseudo_select_widget, 'selected_pseudos'), (plot_cohesive_energy_converge_widget, 'selected_pseudos'))\n",
    "\n",
    "plot_cohesive_energy_converge_diff_widget = wplot.PlotCohesiveEnergyConvergeDiffWidget()\n",
    "ipw.dlink((pseudo_select_widget, 'selected_pseudos'), (plot_cohesive_energy_converge_diff_widget, 'selected_pseudos'))\n",
    "\n",
    "plot_phonon_frequencies_converge_abs_widget = wplot.PlotPhononFrequenciesConvergeAbsWidget()\n",
    "ipw.dlink((pseudo_select_widget, 'selected_pseudos'), (plot_phonon_frequencies_converge_abs_widget, 'selected_pseudos'))\n",
    "\n",
    "plot_phonon_frequencies_converge_rel_widget = wplot.PlotPhononFrequenciesConvergeRelWidget()\n",
    "ipw.dlink((pseudo_select_widget, 'selected_pseudos'), (plot_phonon_frequencies_converge_rel_widget, 'selected_pseudos'))\n",
    "\n",
    "plot_pressure_converge_widget = wplot.PlotPressureConvergeWidget()\n",
    "ipw.dlink((pseudo_select_widget, 'selected_pseudos'), (plot_pressure_converge_widget, 'selected_pseudos'))\n",
    "\n",
    "plot_pressure_converge_rel_widget = wplot.PlotPressureConvergeRelWidget()\n",
    "ipw.dlink((pseudo_select_widget, 'selected_pseudos'), (plot_pressure_converge_rel_widget, 'selected_pseudos'))"
   ]
  },
  {
   "cell_type": "markdown",
   "id": "650dc0f7",
   "metadata": {},
   "source": [
    "## $\\Delta$ measures (normol $\\Delta$-factor, $\\Delta'$-factor and 'length of the vector' measure)\n",
    "\n",
    "### $\\Delta$-factor\n",
    "The $\\Delta$-factor is defined from the result of Birch-Murnanghan fitting which is:\n",
    "\n",
    "$$\n",
    "    E_\\text{BM}(V) = E_0 + \\frac{9 V_0 B_0}{16} {[(V_0 / V)^{2/3}-1]^3 B_0^{'} + [(V_0 / V)^{2/3}-1]^2[6-4(V_0 / V)^{2/3}]}\n",
    "$$\n",
    "\n",
    "Where the energies are calculated from changing lattice parameters at different volumes diviate from the balance position. The the $\\Delta$-factor is integrated difference of two Birch-Murnanghan fitting result:\n",
    "\n",
    "$$\n",
    "    \\Delta = \\sqrt{\\frac{\\int \\mathrm{d} V \\Delta E_{\\text{BM}}^2(V)}{\\Delta{V}}}    \n",
    "$$\n",
    "\n",
    "### $\\Delta'$-factor\n",
    "However $\\Delta$ is stiffness-dependent quantity, being proportional to $B_0$. The $\\Delta'$ is introduced to renormalized $\\Delta$-factor which is similar to the original $\\Delta$-factor except it is \"renormalized\"\n",
    "to reference values of $V^{\\text{ref}}$ and $B^{\\text{ref}}$ for all the elements\n",
    "\n",
    "$$\n",
    "\\Delta' = \\frac{V_{\\text{ref}}B_{\\text{ref}}}{V_{\\text{AE}}B_{\\text{AE}}} \\Delta\n",
    "$$\n",
    "\n",
    "- $V^{\\text{ref}}=30 \\text{Bohr}$\n",
    "- $B^{\\text{ref}}=100\\text{GPa}$ \n",
    "\n",
    "are correspond approximatively to the mean values of $V_0$ and $B_0$ over the 71 unitary elements tested.\n",
    "\n",
    "### length of the vector measure\n",
    "We also defined the measure 'length of the vector' formed by the relative error of $V_0$, $B_0$, $B_1$\n",
    "\n",
    "In this page I choose prefactor ($B_0=\\frac{1}{8}$) and ($B_1=\\frac{1}{64}$).\n",
    "\n",
    "In order to compare the result with $\\Delta$ and $\\Delta'$, I multiply the result with prefactor $\\times 400$ so they are in the same order."
   ]
  },
  {
   "cell_type": "code",
   "execution_count": null,
   "id": "0c4cfb6c",
   "metadata": {},
   "outputs": [],
   "source": [
    "display(plot_delta_measure_widget)"
   ]
  },
  {
   "cell_type": "markdown",
   "id": "9161618e",
   "metadata": {},
   "source": [
    "## Summary of convergence verification \n",
    "\n",
    "The convergence criteria we use here is:\n",
    "- Cohesive energy: $E^{abs}_{coh} < 2.0 (\\text{meV/atom})$\n",
    "- Phonon frequencies: $\\delta \\bar{\\omega} < 1.0 (\\%)$\n",
    "- Pressure: $\\delta P < 0.5 (\\%)$"
   ]
  },
  {
   "cell_type": "code",
   "execution_count": null,
   "id": "4f93df3f",
   "metadata": {},
   "outputs": [],
   "source": [
    "from sssp_inspect.subwidgets.summary import SummaryWidget\n",
    "\n",
    "summary_widget = SummaryWidget()\n",
    "ipw.dlink((pseudo_select_widget, 'selected_pseudos'), (summary_widget, 'selected_pseudos'))\n",
    "display(summary_widget)"
   ]
  },
  {
   "cell_type": "markdown",
   "id": "4eac76db",
   "metadata": {},
   "source": [
    "#### ⚠️ Notes:\n",
    "For wavefunction cutoff convergence verification, the charge density cutoff is fixed at $x_c^{rho}=200\\times d$, where $d=4$ for norm-converserving pseudopotentials and $d=8$ for ultra-soft and paw pseudopotentials. \n",
    "\n",
    "For charge density cutoff convergence verification, the wavefunction cutoff is fixed at converged value of wavefunction cutoff convergence test.\n",
    "\n",
    "The reference cutoff $(x_c^{wfc}, x_c^{rho})$ is set to $(200, 200\\times d)$ for both wavefunctian and charge density verifications.\n"
   ]
  },
  {
   "cell_type": "markdown",
   "id": "64db0364",
   "metadata": {},
   "source": [
    "## Cohesive energy (eV/atom)\n",
    "\n",
    "The cohesive energy $E_{\\text{coh}}$ is the energy gained by arranging the atoms in a crystalline state.\n",
    "\n",
    "$$\n",
    "    E_{\\text{coh}} = E_{\\text{bulk}} - E_{\\text{atom}}\n",
    "$$\n",
    "\n",
    "The different of cohesive energy with respect to reference is defined as:\n",
    "\n",
    "$$\n",
    "    \\delta E_{\\text{coh}} = E_{\\text{coh}}(x_c) - E_{\\text{coh}}(x_{ref})\n",
    "$$\n",
    "\n",
    "- $x_c$: the cutoff setting of sample point\n",
    "- $x_{ref}$: the cutoff setting of the reference point (the converged value), "
   ]
  },
  {
   "cell_type": "code",
   "execution_count": null,
   "id": "9a3034f5",
   "metadata": {},
   "outputs": [],
   "source": [
    "display(plot_cohesive_energy_converge_widget)"
   ]
  },
  {
   "cell_type": "markdown",
   "id": "80969308",
   "metadata": {},
   "source": [
    "## Cohesive energy error (eV/atom)\n",
    "\n",
    "The error of cohesive energy w.r.t converged reference cutoff (200 Ry for wavefunction cutoff) is defined as:\n",
    "\n",
    "$$\n",
    "    \\delta E_{\\text{coh}} = E_{\\text{coh}}(x_c) - E_{\\text{coh}}(x_{ref})\n",
    "$$\n",
    "\n",
    "- $x_c$: the cutoff setting of sample point\n",
    "- $x_{ref}$: the cutoff setting of the reference point (the converged value), "
   ]
  },
  {
   "cell_type": "code",
   "execution_count": null,
   "id": "b6a7f447",
   "metadata": {},
   "outputs": [],
   "source": [
    "display(plot_cohesive_energy_converge_diff_widget)"
   ]
  },
  {
   "cell_type": "markdown",
   "id": "6953f51b",
   "metadata": {},
   "source": [
    "## Phonon frequencies absolute error ($cm^{-1}$)\n",
    "\n",
    "The absolute error of phonon frequencies w.r.t reference cutoff (200 Ry for wavefunction cutoff) is defined as:\n",
    "\n",
    "$$\n",
    "    \\delta \\bar{\\omega} = \n",
    "    \\sqrt{\\frac{1}{N} \\sum^N_{i=1} \\omega_i(x_c)-\\omega_i(x_{ref})}\n",
    "$$\n",
    "\n",
    "- $\\omega_i$: the frequencies of every modes. \n",
    "- N: the number of modes"
   ]
  },
  {
   "cell_type": "code",
   "execution_count": null,
   "id": "eb6627d1",
   "metadata": {},
   "outputs": [],
   "source": [
    "display(plot_phonon_frequencies_converge_abs_widget)"
   ]
  },
  {
   "cell_type": "markdown",
   "id": "67900745",
   "metadata": {},
   "source": [
    "## Phonon frequencies relative error (%)\n",
    "\n",
    "The relative error of phonon frequencies w.r.t reference cutoff (200 Ry for wavefunction cutoff) is defined as:\n",
    "\n",
    "$$\n",
    "    \\delta \\bar{\\omega} = \n",
    "    \\sqrt{\\frac{1}{N} \\sum^N_{i=1} \\left | \\frac{\\omega_i(x_c)-\\omega_i(x_{ref})}{\\omega_i(x_{ref})} \n",
    "    \\right|^2}\n",
    "$$\n",
    "\n",
    "- $\\omega_i$: the frequencies of every modes. \n",
    "- N: the number of modes"
   ]
  },
  {
   "cell_type": "code",
   "execution_count": null,
   "id": "8f582333",
   "metadata": {},
   "outputs": [],
   "source": [
    "display(plot_phonon_frequencies_converge_rel_widget)"
   ]
  },
  {
   "cell_type": "markdown",
   "id": "451f3604",
   "metadata": {},
   "source": [
    "## Pressure absolute error (GPa)\n",
    "\n",
    "The absolute error of pressure are complex defined w.r.t converged reference cutoff (200 Ry for wavefunction cutoff) is defined as:\n",
    "\n",
    "$$\n",
    "    \\delta P = P(x_c) - P(x_{ref})\n",
    "$$"
   ]
  },
  {
   "cell_type": "code",
   "execution_count": null,
   "id": "c3e76bd6",
   "metadata": {},
   "outputs": [],
   "source": [
    "display(plot_pressure_converge_widget)"
   ]
  },
  {
   "cell_type": "markdown",
   "id": "16b0d29c",
   "metadata": {},
   "source": [
    "## Pressure relative error (GPa)\n",
    "\n",
    "The relative error of pressure are complex defined in terms of volume difference where the volume is converted from the pressure difference of the cutoff setting and converged reference setting:\n",
    "\n",
    "$$\n",
    "    \\delta V = \\frac{V'-V_0}{V_0}\n",
    "$$\n",
    "\n",
    "- $V'$ is the deviation volume as the one closest to the equilibrium volume \n",
    "- $V_0$ is read from the converged reference (wave function cutoff 200Ry) Birch-Murnaghan fitting. \n",
    "\n",
    "$$P_\\text{BM}(V')=\\delta P$$ "
   ]
  },
  {
   "cell_type": "code",
   "execution_count": null,
   "id": "a252801d",
   "metadata": {},
   "outputs": [],
   "source": [
    "display(plot_pressure_converge_rel_widget)"
   ]
  }
 ],
 "metadata": {
  "kernelspec": {
   "display_name": "Python 3 (ipykernel)",
   "language": "python",
   "name": "python3"
  },
  "language_info": {
   "codemirror_mode": {
    "name": "ipython",
    "version": 3
   },
   "file_extension": ".py",
   "mimetype": "text/x-python",
   "name": "python",
   "nbconvert_exporter": "python",
   "pygments_lexer": "ipython3",
   "version": "3.10.0"
  }
 },
 "nbformat": 4,
 "nbformat_minor": 5
}
